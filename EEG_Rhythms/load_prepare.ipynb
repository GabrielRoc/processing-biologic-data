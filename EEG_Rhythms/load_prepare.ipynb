{
 "cells": [
  {
   "cell_type": "markdown",
   "id": "6d06b2aa",
   "metadata": {},
   "source": [
    "# Este arquivo realizará o carregamento e preparação de dados\n",
    "\n",
    "**Realizando os imports**"
   ]
  },
  {
   "cell_type": "code",
   "execution_count": 1,
   "id": "ecb7d73b",
   "metadata": {},
   "outputs": [],
   "source": [
    "import numpy as np\n",
    "import csv\n",
    "import re"
   ]
  },
  {
   "cell_type": "markdown",
   "id": "be904b63",
   "metadata": {},
   "source": [
    "**Fazendo o carregamento inicial**"
   ]
  },
  {
   "cell_type": "code",
   "execution_count": 2,
   "id": "02266da4",
   "metadata": {},
   "outputs": [
    {
     "name": "stdout",
     "output_type": "stream",
     "text": [
      "(175952, 8)\n"
     ]
    },
    {
     "data": {
      "text/plain": [
       "array([[ 45997.52,  37487.45, -22369.71, ..., -24777.78, -10055.49,\n",
       "         -3746.69],\n",
       "       [ 46077.2 ,  37578.29, -22259.92, ..., -24711.8 ,  -9977.57,\n",
       "         -3650.2 ],\n",
       "       [ 46157.87,  37690.05, -22231.69, ..., -24741.1 ,  -9976.9 ,\n",
       "         -3649.79],\n",
       "       ...,\n",
       "       [ 42445.92,  36844.3 , -19134.23, ..., -21854.02,  -3700.73,\n",
       "           488.59],\n",
       "       [ 42503.61,  36892.94, -19094.87, ..., -21886.02,  -3697.2 ,\n",
       "           493.86],\n",
       "       [ 42473.36,  36854.52, -19144.65, ..., -21926.19,  -3730.86,\n",
       "           449.9 ]])"
      ]
     },
     "execution_count": 2,
     "metadata": {},
     "output_type": "execute_result"
    }
   ],
   "source": [
    "with open('datasets/OpenBCI_GUI-v5-meditation.txt') as arquivo:\n",
    "    linhas = arquivo.readlines()\n",
    "\n",
    "data = list()\n",
    "for i, linha in enumerate(linhas):\n",
    "    res = re.search('^\\d{1,3},((\\ -?.+?,){8})', linha)\n",
    "    if res:\n",
    "        cols = res.group(1)\n",
    "        data.append([float(d[1:]) for d in cols.split(',') if d])\n",
    "\n",
    "data = np.array(data[1:])\n",
    "print(data.shape)\n",
    "data"
   ]
  },
  {
   "cell_type": "code",
   "execution_count": null,
   "id": "42a42922",
   "metadata": {},
   "outputs": [],
   "source": []
  }
 ],
 "metadata": {
  "kernelspec": {
   "display_name": "Python 3 (ipykernel)",
   "language": "python",
   "name": "python3"
  },
  "language_info": {
   "codemirror_mode": {
    "name": "ipython",
    "version": 3
   },
   "file_extension": ".py",
   "mimetype": "text/x-python",
   "name": "python",
   "nbconvert_exporter": "python",
   "pygments_lexer": "ipython3",
   "version": "3.10.7"
  }
 },
 "nbformat": 4,
 "nbformat_minor": 5
}
