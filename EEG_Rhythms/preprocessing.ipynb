{
 "cells": [
  {
   "cell_type": "markdown",
   "id": "6b14f425",
   "metadata": {},
   "source": [
    "## *Pré-processamento*\n",
    "\n",
    "Esta é uma etapa importante do processamento de dados, que envolve vários conceitos. No pré-processamento, os dados podem ser \"limpados\", padronizados e transformados.\n",
    "\n",
    "- *Limpar* os dados refere-se à remoção ou correção de dados que estejam incompletos, corrompidos ou imprecisos.\n",
    "- *Padronizar* os dados refere-se à remoção de *outliers*, além de deixar todas as possíveis mensurações na mesma escala e unidade, além de normalizá-las quando necerrário.\n",
    "- *Transformar* os dados refere-se à aplicação dos dados em um formato que favoreça futuras extrações de características ou análises."
   ]
  },
  {
   "cell_type": "code",
   "execution_count": 1,
   "id": "7bf609fd",
   "metadata": {},
   "outputs": [],
   "source": [
    "# Realização de imports necessários\n",
    "\n",
    "%matplotlib inline\n",
    "import matplotlib.pyplot as plt\n",
    "from matplotlib import rcParams\n",
    "import numpy as np\n",
    "from scipy.signal import stft"
   ]
  },
  {
   "cell_type": "markdown",
   "id": "96d769dc",
   "metadata": {},
   "source": [
    "## Obtenção dos dados no domínio do tempo e da frequência"
   ]
  },
  {
   "cell_type": "code",
   "execution_count": 2,
   "id": "504c8775",
   "metadata": {},
   "outputs": [
    {
     "name": "stdout",
     "output_type": "stream",
     "text": [
      "175952\n"
     ]
    },
    {
     "data": {
      "text/plain": [
       "(8, 175952)"
      ]
     },
     "execution_count": 2,
     "metadata": {},
     "output_type": "execute_result"
    }
   ],
   "source": [
    "data = np.load('datasets/OpenBCI_GUI-v5-meditation.npy')\n",
    "print(data.shape[0])\n",
    "data.shape[0] / 8\n",
    "data = data.swapaxes(1, 0)\n",
    "\n",
    "# domínio do tempo\n",
    "data.shape"
   ]
  },
  {
   "cell_type": "code",
   "execution_count": 3,
   "id": "3dcd1506",
   "metadata": {},
   "outputs": [
    {
     "name": "stdout",
     "output_type": "stream",
     "text": [
      "(129,) (1376,) (8, 129, 1376)\n"
     ]
    },
    {
     "data": {
      "text/plain": [
       "(8, 177504)"
      ]
     },
     "execution_count": 3,
     "metadata": {},
     "output_type": "execute_result"
    }
   ],
   "source": [
    "f, t, Zxx = stft(data, fs=250., nperseg=256)\n",
    "print(f.shape, t.shape, Zxx.shape)\n",
    "freqs = Zxx.reshape(8, len(f) * len(t))\n",
    "freqs.shape"
   ]
  },
  {
   "cell_type": "markdown",
   "id": "2f812c91",
   "metadata": {},
   "source": [
    "Tarefa:\n",
    "- Realizar plots com matplotlib dos dados em ambos os domínios para cada um dos canais\n",
    "- Fazer a média dos 8 eletrodos e realizar os plot novamente\n",
    "\n",
    "Desafio:\n",
    "- Obter o PSD ($mod(w)^2$) para os valores no domínio da frequência e plotar novamente"
   ]
  },
  {
   "cell_type": "markdown",
   "id": "fddde99e",
   "metadata": {},
   "source": [
    "## Definição das funções para aplicação de filtros temporais\n",
    "\n",
    "Para a aplicação dos filtros temporais, serão utilizadas as seguintes funções a seguir:"
   ]
  },
  {
   "cell_type": "code",
   "execution_count": 4,
   "id": "31a68e8a",
   "metadata": {},
   "outputs": [],
   "source": [
    "def butter_bandpass(data, lowcut, highcut, fs=200, order=4):\n",
    "    nyq = fs * 0.5\n",
    "    low = lowcut / nyq\n",
    "    high = highcut / nyq\n",
    "    b, a = signal.butter(order, [low, high], btype='bandpass')\n",
    "    return signal.filtfilt(b, a, data)\n",
    "\n",
    "\n",
    "def butter_lowpass(data, lowcut, fs=200, order=4):\n",
    "    nyq = fs * 0.5\n",
    "    low = lowcut / nyq\n",
    "    b, a = signal.butter(order, low, btype='lowpass')\n",
    "    return signal.filtfilt(b, a, data)\n",
    "\n",
    "\n",
    "def butter_highpass(data, highcut, fs=200, order=4):\n",
    "    nyq = fs * 0.5\n",
    "    high = highcut / nyq\n",
    "    b, a = signal.butter(order, high, btype='highpass')\n",
    "    return signal.filtfilt(b, a, data)\n",
    "\n",
    "\n",
    "def butter_notch(data, cutoff, var=1, fs=200, order=4):\n",
    "    nyq = fs * 0.5\n",
    "    low = (cutoff - var) / nyq\n",
    "    high = (cutoff + var) / nyq\n",
    "    b, a = signal.iirfilter(order, [low, high], btype='bandstop', ftype=\"butter\")\n",
    "    return signal.filtfilt(b, a, data)"
   ]
  },
  {
   "cell_type": "markdown",
   "id": "dd2469c7",
   "metadata": {},
   "source": [
    "## Algumas funções extras para avaliar ...\n",
    "\n",
    "- Utilizar o `scipy.signal.welch` para obter as Frequências em PSD com o método Welch, e comparar com os dados (no gráfico) com dados de frequências obtidas com `scipy.signal.stft` $\\rightarrow$ PSD *handcrafted*\n",
    "- Imprimir apenas \"partes importantes\" do sinal no domínio da frequência\n",
    "- Fazer um \"merge\" dos resultados obtidos pelos alunos nas tarefas e desafio."
   ]
  },
  {
   "cell_type": "markdown",
   "id": "852b19d0",
   "metadata": {},
   "source": [
    "## Desenvolvimento de funções para `plot`\n",
    "\n",
    "Vamos criar uma função que será utilizada como padrão para imprimir os gráficos no domíno do tempo e da frequência.\n",
    "\n",
    "**Obs.:** Para imprimir os dados no domínio da frequência, foi utilizado a função `matplotlib.pyplot.psd` que na verdade utiliza a transformação dos dados por FFT, porém aplica uma característica que evidencia a \"energia\" dos dados, chamado de PSD (_Power Spectrum Density_)"
   ]
  },
  {
   "cell_type": "code",
   "execution_count": 5,
   "id": "ed6bb652",
   "metadata": {},
   "outputs": [],
   "source": [
    "def print_graphs(data):\n",
    "    for i in range(data.shape[1]):\n",
    "        plt.plot(data[3,i,:])\n",
    "    plt.title('Domínio do tempo')\n",
    "    plt.show()\n",
    "\n",
    "    for i in range(data.shape[1]):\n",
    "        plt.psd(data[3,i,:], Fs=200)\n",
    "    plt.title('Domínio da frequência')\n",
    "    plt.show()"
   ]
  },
  {
   "cell_type": "code",
   "execution_count": null,
   "id": "3071f7e5",
   "metadata": {},
   "outputs": [],
   "source": []
  }
 ],
 "metadata": {
  "kernelspec": {
   "display_name": "Python 3 (ipykernel)",
   "language": "python",
   "name": "python3"
  },
  "language_info": {
   "codemirror_mode": {
    "name": "ipython",
    "version": 3
   },
   "file_extension": ".py",
   "mimetype": "text/x-python",
   "name": "python",
   "nbconvert_exporter": "python",
   "pygments_lexer": "ipython3",
   "version": "3.10.7"
  }
 },
 "nbformat": 4,
 "nbformat_minor": 5
}
