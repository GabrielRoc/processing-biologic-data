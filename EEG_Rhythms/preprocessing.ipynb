{
 "cells": [
  {
   "cell_type": "code",
   "execution_count": 9,
   "id": "7bf609fd",
   "metadata": {},
   "outputs": [],
   "source": [
    "import numpy as np\n",
    "from scipy.signal import stft"
   ]
  },
  {
   "cell_type": "code",
   "execution_count": 25,
   "id": "504c8775",
   "metadata": {},
   "outputs": [
    {
     "name": "stdout",
     "output_type": "stream",
     "text": [
      "175952\n"
     ]
    },
    {
     "data": {
      "text/plain": [
       "(8, 175952)"
      ]
     },
     "execution_count": 25,
     "metadata": {},
     "output_type": "execute_result"
    }
   ],
   "source": [
    "data = np.load('datasets/OpenBCI_GUI-v5-meditation.npy')\n",
    "print(data.shape[0])\n",
    "data.shape[0] / 8\n",
    "data = data.swapaxes(1, 0)\n",
    "\n",
    "# domínio do tempo\n",
    "data.shape"
   ]
  },
  {
   "cell_type": "code",
   "execution_count": 41,
   "id": "3dcd1506",
   "metadata": {},
   "outputs": [
    {
     "data": {
      "text/plain": [
       "(8, 177504)"
      ]
     },
     "execution_count": 41,
     "metadata": {},
     "output_type": "execute_result"
    }
   ],
   "source": [
    "_, _, freqs = stft(data, fs=250., nperseg=256)\n",
    "freqs = freqs.reshape(8, 129*1376)\n",
    "\n",
    "# domínio da frequência\n",
    "freqs.shape"
   ]
  },
  {
   "cell_type": "markdown",
   "id": "2f812c91",
   "metadata": {},
   "source": [
    "Tarefa:\n",
    "- Realizar plots com matplotlib dos dados em ambos os domínios para cada um dos canais\n",
    "- Fazer a média dos 8 eletrodos e realizar os plot novamente\n",
    "\n",
    "Desafio:\n",
    "- Obter o PSD ($mod(w)^2$) para os valores no domínio da frequência e plotar novamente"
   ]
  },
  {
   "cell_type": "code",
   "execution_count": null,
   "id": "8df87ed8",
   "metadata": {},
   "outputs": [],
   "source": []
  }
 ],
 "metadata": {
  "kernelspec": {
   "display_name": "Python 3 (ipykernel)",
   "language": "python",
   "name": "python3"
  },
  "language_info": {
   "codemirror_mode": {
    "name": "ipython",
    "version": 3
   },
   "file_extension": ".py",
   "mimetype": "text/x-python",
   "name": "python",
   "nbconvert_exporter": "python",
   "pygments_lexer": "ipython3",
   "version": "3.10.7"
  }
 },
 "nbformat": 4,
 "nbformat_minor": 5
}
