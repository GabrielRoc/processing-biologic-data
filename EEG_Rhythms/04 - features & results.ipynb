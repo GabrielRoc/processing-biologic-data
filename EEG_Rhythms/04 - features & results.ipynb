{
 "cells": [
  {
   "cell_type": "code",
   "execution_count": 1,
   "id": "19cc0b41",
   "metadata": {},
   "outputs": [],
   "source": [
    "# realização dos imports\n",
    "\n",
    "%matplotlib inline\n",
    "import matplotlib.pyplot as plt\n",
    "import numpy as np\n",
    "from scipy.signal import welch"
   ]
  },
  {
   "cell_type": "code",
   "execution_count": 2,
   "id": "b96f6925",
   "metadata": {},
   "outputs": [
    {
     "data": {
      "text/plain": [
       "(8, 165452)"
      ]
     },
     "execution_count": 2,
     "metadata": {},
     "output_type": "execute_result"
    }
   ],
   "source": [
    "# carregamento dos dados filtrados\n",
    "\n",
    "data = np.load(\"datasets/OpenBCI_GUI-v5-meditation_filtered.npy\")\n",
    "data.shape"
   ]
  },
  {
   "cell_type": "code",
   "execution_count": 3,
   "id": "bfd53aae",
   "metadata": {},
   "outputs": [],
   "source": [
    "# determinação das faixas de frequências para cada rítmo\n",
    "delta = (0, 4)\n",
    "theta = (4, 8)   # meditação, imaginação e criatividade\n",
    "alpha = (8, 12)  # relaxamento e alerta, mas não focados em algo; calma, criatividade e meditação\n",
    "beta = (12, 30)  # alerta e foco em atividade específica\n",
    "gama = (30, 100)\n",
    "\n",
    "# determinação das faixas de frequências específicas da onda Beta\n",
    "beta1 = (12, 15) # foco moderado, aparece em leitura, escrita, etc\n",
    "beta2 = (15, 20) # foco intenso, aparece quando solucionamos problemas e tomada de decisões\n",
    "beta3 = (20, 30) # estresse e ansiedade, atividades mentais excessivas e hiperatividade"
   ]
  },
  {
   "cell_type": "code",
   "execution_count": 4,
   "id": "cfd0e9aa",
   "metadata": {},
   "outputs": [
    {
     "data": {
      "text/plain": [
       "((129,), (8, 129))"
      ]
     },
     "execution_count": 4,
     "metadata": {},
     "output_type": "execute_result"
    }
   ],
   "source": [
    "f, Pxx = welch(data)\n",
    "f.shape, Pxx.shape"
   ]
  },
  {
   "cell_type": "markdown",
   "id": "7d1323cf",
   "metadata": {},
   "source": [
    "### Próximos passos:\n",
    "\n",
    "1. Plotar o PSD Welch geral;\n",
    "2. Enquadrar os valores de frequências para cada rítmo;\n",
    "3. Plotar gráfico de barras\n",
    "4. Mapear em uma escala linear (`min * 100 / max`) e (3)\n",
    "5. Aplicar uma normalização e (3, 4)\n",
    "\n",
    "### Passos finais (trabalho):\n",
    "\n",
    "**Objetivo**: fornecer os valores (obtido nos passos anteriores) ao longo do tempo\n",
    "- para fazer isso, deve ser simulado o experimento *online* com buffer\n",
    "- fornecer os dados atualizados a cada N segundos, informando o momento (máximo)\n",
    "- os dados devem ser salvos em um arquivo para que seja analisado posteriormente (geração de gráficos, estatíticas, etc)\n",
    "    \n",
    "**Produto gerado**: oferecer uma função totalmente parametrizável. Os dados de entrada incluem:\n",
    "- arquivo de análise\n",
    "- taxa de amostragem\n",
    "- tempo (em segundos, `float`) de atualização\n",
    "- dado em escala? (Padrão `False` ou `float`)\n",
    "- dado em normalizado? (`boolean`)\n",
    "- tipo de saída: raw, table"
   ]
  },
  {
   "cell_type": "code",
   "execution_count": null,
   "id": "29428f62",
   "metadata": {},
   "outputs": [],
   "source": []
  }
 ],
 "metadata": {
  "kernelspec": {
   "display_name": "Python 3 (ipykernel)",
   "language": "python",
   "name": "python3"
  },
  "language_info": {
   "codemirror_mode": {
    "name": "ipython",
    "version": 3
   },
   "file_extension": ".py",
   "mimetype": "text/x-python",
   "name": "python",
   "nbconvert_exporter": "python",
   "pygments_lexer": "ipython3",
   "version": "3.10.7"
  }
 },
 "nbformat": 4,
 "nbformat_minor": 5
}
