{
 "cells": [
  {
   "cell_type": "code",
   "execution_count": 20,
   "metadata": {
    "collapsed": true
   },
   "outputs": [],
   "source": [
    "import numpy as np"
   ]
  },
  {
   "cell_type": "code",
   "execution_count": 21,
   "metadata": {},
   "outputs": [],
   "source": [
    "all_participants = np.load('../datasets/topicos_cc/s_t.npy')"
   ]
  },
  {
   "cell_type": "code",
   "execution_count": 22,
   "metadata": {
    "collapsed": false
   },
   "outputs": [
    {
     "data": {
      "text/plain": [
       "(10, 8, 3, 4, 1600)"
      ]
     },
     "execution_count": 22,
     "metadata": {},
     "output_type": "execute_result"
    }
   ],
   "source": [
    "all_participants.shape"
   ]
  },
  {
   "cell_type": "code",
   "execution_count": 23,
   "metadata": {
    "collapsed": false
   },
   "outputs": [
    {
     "name": "stdout",
     "output_type": "stream",
     "text": [
      "Shape dos dados após a transformação:\n",
      "Dominio do tempo: (24, 4, 33, 64) - (Participantes, Classes+Ensaios, Canais, Janelas, Linhas)\n",
      "Dominio da frequência: (24, 4, 33, 65) - (Participantes, Classes+Ensaios, Canais, Janelas, Linhas)\n",
      "Dominio da welch: (24, 4, 33) - (Participantes, Classes+Ensaios, Canais, Janelas)\n"
     ]
    }
   ],
   "source": [
    "from scipy.signal import stft, resample, welch\n",
    "\n",
    "all_participants_domains = []\n",
    "for i in range(all_participants.shape[0]):\n",
    "    participant = all_participants[i]\n",
    "    step = 48\n",
    "    segment = 64\n",
    "    dataR = participant.reshape(24, 4, 1600)\n",
    "\n",
    "    n_win = int((dataR.shape[-1] - segment) / step) + 1\n",
    "    ids = np.arange(n_win) * step\n",
    "\n",
    "    # Janelas do dado no dominio do tempo\n",
    "    chunks_time = np.array([dataR[:,:,k:(k + segment)] for k in ids]).transpose(1, 2, 0, 3)\n",
    "\n",
    "    # Janelas do dado no domínio da frequência\n",
    "    _, _, chunks_freq = stft(dataR, fs=200, nperseg=128, noverlap=78)\n",
    "    chunks_freq = np.swapaxes(chunks_freq, 2, 3)\n",
    "\n",
    "    f, chunks_welch = welch(dataR, fs=200, nperseg=64, noverlap=32)\n",
    "\n",
    "    domains = {\n",
    "        'time': chunks_time,\n",
    "        'freq': chunks_freq,\n",
    "        'welch': chunks_welch,\n",
    "        'f': f\n",
    "    }\n",
    "\n",
    "    all_participants_domains.append(domains)\n",
    "\n",
    "print('Shape dos dados após a transformação:')\n",
    "print(f'Dominio do tempo: {all_participants_domains[0][\"time\"].shape} - (Participantes, Classes+Ensaios, Canais, Janelas, Linhas)')\n",
    "print(f'Dominio da frequência: {all_participants_domains[0][\"freq\"].shape} - (Participantes, Classes+Ensaios, Canais, Janelas, Linhas)')\n",
    "print(f'Dominio da welch: {all_participants_domains[0][\"welch\"].shape} - (Participantes, Classes+Ensaios, Canais, Janelas)')"
   ]
  },
  {
   "cell_type": "code",
   "execution_count": 24,
   "metadata": {},
   "outputs": [],
   "source": [
    "def psd(w):\n",
    "    return np.abs(w) ** 2\n",
    "\n",
    "def wamp(x, threshold):\n",
    "    return np.sum(np.abs(np.diff(x)) > threshold, axis=-1)\n",
    "\n",
    "def var(x):\n",
    "    return np.sum(x ** 2, axis=-1) / (np.prod(x.shape) - 1)\n",
    "\n",
    "def rms(x):\n",
    "    return np.sqrt(np.sum(np.abs(x) ** 2, axis=-1) / (np.prod(x.shape) - 1))\n",
    "\n",
    "def wl(x):\n",
    "    return np.abs(np.diff(x, axis=-1)).sum(axis=-1)\n",
    "\n",
    "def zc(x):\n",
    "    return np.sum(np.diff(np.sign(x), axis=-1) != 0, axis=-1)\n",
    "\n",
    "def fmd(w):\n",
    "    return np.sum(psd(w), axis=-1) / 2\n",
    "\n",
    "def fmn(w):\n",
    "    _,_,_,M = w.shape\n",
    "    f_j = (np.arange(1, M+1) * 200 )/ (2 * M)\n",
    "    weighted_sum = np.sum(f_j * psd(w))\n",
    "    mean_freq = weighted_sum / fmd(w)*2\n",
    "    return mean_freq\n",
    "\n",
    "def mmdf(w):\n",
    "    return np.sum(np.abs(w), axis=-1) / 2\n",
    "\n",
    "def mmnf(w):\n",
    "    _,_,_,M = w.shape\n",
    "    f_j = np.arange(1, M+1) * 200 / (2 * M) \n",
    "    weighted_sum = np.sum(f_j * np.abs(w), axis=-1)\n",
    "    mean_freq = weighted_sum / mmdf(w)*2\n",
    "    return mean_freq"
   ]
  },
  {
   "cell_type": "code",
   "execution_count": 25,
   "metadata": {},
   "outputs": [
    {
     "name": "stdout",
     "output_type": "stream",
     "text": [
      "10\n",
      "(10, 24, 4, 33)\n",
      "Shape dos dados após a extração de características: (10, 10, 24, 4, 33)\n",
      "Shape dos dados após a extração de características: (10, 792, 40)\n"
     ]
    }
   ],
   "source": [
    "all_participants_features = []\n",
    "for i in range(len(all_participants_domains)):\n",
    "    features = []\n",
    "    participant = all_participants_domains[i]\n",
    "    features.append(participant['welch'])\n",
    "    features.append(var(participant['time']))\n",
    "    features.append(rms(participant['time']))\n",
    "    features.append(wamp(participant['time'], 0))\n",
    "    features.append(wl(participant['time']))\n",
    "    features.append(zc(participant['time']))\n",
    "    features.append(fmd(participant['freq']))\n",
    "    features.append(mmdf(participant['freq']))\n",
    "    features.append(fmn(participant['freq']))\n",
    "    features.append(mmnf(participant['freq']))\n",
    "\n",
    "    all_participants_features.append(np.array(features))\n",
    "\n",
    "print(len(all_participants_features))\n",
    "print(all_participants_features[0].shape)\n",
    "all_participants_features = np.array(all_participants_features)\n",
    "print(f'Shape dos dados após a extração de características: {all_participants_features.shape}')\n",
    "\n",
    "all_participants_features = all_participants_features.swapaxes(2, 3)\n",
    "all_participants_features = all_participants_features.reshape(10, 40, 24 * 33)\n",
    "all_participants_features = all_participants_features.swapaxes(1, 2)\n",
    "\n",
    "print(f'Shape dos dados após a extração de características: {all_participants_features.shape}')\n",
    "\n",
    "np.save('../datasets/topicos_cc/s_t_features.npy', all_participants_features)"
   ]
  }
 ],
 "metadata": {
  "kernelspec": {
   "display_name": "Python 3",
   "language": "python",
   "name": "python3"
  },
  "language_info": {
   "codemirror_mode": {
    "name": "ipython",
    "version": 3
   },
   "file_extension": ".py",
   "mimetype": "text/x-python",
   "name": "python",
   "nbconvert_exporter": "python",
   "pygments_lexer": "ipython3",
   "version": "3.9.12"
  }
 },
 "nbformat": 4,
 "nbformat_minor": 0
}
