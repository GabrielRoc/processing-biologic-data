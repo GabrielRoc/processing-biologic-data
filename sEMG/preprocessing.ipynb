{
 "cells": [
  {
   "cell_type": "markdown",
   "metadata": {},
   "source": [
    "# Preparação dos dados e segmentação"
   ]
  },
  {
   "cell_type": "code",
   "execution_count": 2,
   "metadata": {},
   "outputs": [
    {
     "name": "stdout",
     "output_type": "stream",
     "text": [
      "(20000, 2)\n",
      "(10, 6, 20000, 2) - (classes, ensaios, linhas, canais)\n",
      "(10, 6, 2, 20000) - (classes, ensaios, canais, linhas)\n"
     ]
    }
   ],
   "source": [
    "# carregamento e preparação dos dados\n",
    "%run \"load_dataset.ipynb\"\n",
    "\n",
    "# carregamento dos filtros temporais\n",
    "%run \"filters.py\""
   ]
  },
  {
   "cell_type": "code",
   "execution_count": 4,
   "metadata": {},
   "outputs": [
    {
     "data": {
      "text/plain": [
       "(10, 6, 2, 20000)"
      ]
     },
     "execution_count": 4,
     "metadata": {},
     "output_type": "execute_result"
    }
   ],
   "source": [
    "# aplicação de filtros temporais\n",
    "\n",
    "data_filtered = butter_notch(data, 60)\n",
    "data_filtered = butter_highpass(data_filtered, 5)\n",
    "data_filtered = butter_lowpass(data_filtered, 50)\n",
    "\n",
    "data_filtered.shape"
   ]
  },
  {
   "cell_type": "markdown",
   "metadata": {},
   "source": [
    "**Desafio 1**: Como vemos o resultado de `data_filtered`, existe apenas um conjunto de dados para cada movimento. Modifique o código de forma que as seis diferentes tentativas fiquem na mesma dimensão do conjunto. Por exemplo, ao invés do shape resultar em: (10, 6, 2, 20000), queremos que o shape final fique da seguinte forma: (60, 2, 20000). Isto faz com que a quantidade de ensaios não perca seu propósito e seja incorporado aos dados de processamento do problema."
   ]
  },
  {
   "cell_type": "markdown",
   "metadata": {},
   "source": [
    "## Criação do vetor de rótulos\n",
    "\n",
    "Verificar se foram concatenados amostras das 10 classes consecutivas (1) ou então os 6 trials de cada movimento consecutivos. Ex.:\n",
    "\n",
    "1. 1,2,3,4,5,6,7,8,9,10,1,2,3,4,5,6,7,8,9,10,...\n",
    "2. 1,1,1,1,1,1,1,1,1,1,2,2,2,2,2,2,2,2,2,2,3,..."
   ]
  },
  {
   "cell_type": "code",
   "execution_count": null,
   "metadata": {},
   "outputs": [],
   "source": [
    "# seu código"
   ]
  }
 ],
 "metadata": {
  "kernelspec": {
   "display_name": "Python 3 (ipykernel)",
   "language": "python",
   "name": "python3"
  },
  "language_info": {
   "codemirror_mode": {
    "name": "ipython",
    "version": 3
   },
   "file_extension": ".py",
   "mimetype": "text/x-python",
   "name": "python",
   "nbconvert_exporter": "python",
   "pygments_lexer": "ipython3",
   "version": "3.9.7"
  }
 },
 "nbformat": 4,
 "nbformat_minor": 2
}
