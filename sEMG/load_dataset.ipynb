{
 "cells": [
  {
   "cell_type": "markdown",
   "id": "0c9c7ce0",
   "metadata": {},
   "source": [
    "# *Datasets*\n",
    "\n",
    "Os *datasets* (conjuntos de dados) são o principal insumo dos processos de análise de dados e de ciência de dados. Eles são representados normalmente por dados tabulares em formato de planilha onde as linhas são os registros dos acontecimentos e as colunas são as características desses acontecimentos.\n",
    "\n",
    "Existem variadas formas de salvar um *dataset*, na área de processamento de dados as formas mais comuns envolvem salvar os dados em arquivos nos formatos `.xlsx`, `.csv` ou `.tsv`. Embora também seja possível trabalhar com dados guardados em bases de dados, obtendo as informações por meio de consultas a base.\n",
    "\n",
    "Neste `notebook` será apresentado o carregamento do *dataset*  [*DETECTING INDIVIDUAL AND COMBINED FINGERS MOVEMENTS*](https://www.rami-khushaba.com/electromyogram-emg-repository.html)."
   ]
  },
  {
   "cell_type": "markdown",
   "id": "bbeb2826",
   "metadata": {},
   "source": [
    "## Detalhes do *dataset*\n",
    ">É uma boa prática prover um resumo do *dataset* utilizado, pontuando características importantes para o processo da analise dos dados, explicando como ele está estruturado e colocando as devidas refências quando aplicável.\n",
    "\n",
    "*dataset*: DETECTING INDIVIDUAL AND COMBINED FINGERS MOVEMENTS \\[1\\]\n",
    "\n",
    "\n",
    "Dez voluntários, com idade entre 20 e 35 anos foram recrutados para realizarem movimentos com os dedos.\n",
    "Os voluntários possuem os membros normais e sem desordem neurológica ou muscular. Os voluntários estavam sentados em uma poltrona com o braço apoiado e fixado em uma posição, para evitar efeitos de posições diferentes do membro. Os dados foram coletados utilizando **2 canais EMG** e processados pelo software Bagnoli Desktop EMG Systems da Delsys Inc. Os sinals EMG coletados dos eletrodos foram amplificados utilizando o amplificador Delsys Bagnoli-8 para um ganho total de 1000. Um conversor analógico digital de 12 bits foi utilizado para amostrar o sinal a **4000 Hz**.\n",
    "\n",
    "Os sinais EMG foram filtrados por um filtro passa-banda entre 20 e 450 Hz com um filtro *notch* para remover as faixas de 50 Hz provenientes da rede elétrica.\n",
    "Sinais de dez classes de movimentos de dedos, individuais e combinados, foram coletados. Para cada classe foram realizados seis ensaios.\n",
    "\n",
    "- Flexão individual:\n",
    "  - Polegar (T-T)\n",
    "  - Indicador (I-I)\n",
    "  - Médio (M-M)\n",
    "  - Anular (R-R)\n",
    "  - Minimo (L-L)\n",
    "\n",
    "- Flexão combinada:\n",
    "  - Polegar-Indicador (T-I)\n",
    "  - Polegar-Médio (T-M)\n",
    "  - Polegar-Anular (T-R)\n",
    "  - Polegar-Minimo (T-L)\n",
    "  - Punho fechado (HC)\n",
    "\n",
    "Os arquivos do *dataset* estão organizados da seguinte forma: há uma pasta para cada voluntário, o padrão de nomenclatura das pastas é `EMG-S<número_do_voluntário>`, por exemplo, para o voluntário 1 temos a pasta\n",
    " `EMG-S1`, para o voluntário 2 temos a pasta `EMG-S2`, e assim sucessivamente.\n",
    "\n",
    "Dentro de cada pasta há um arquivo `.csv` para cada coleta. São seis ensaios por classe, totalizando 60 arquivos `.csv`. Cada arquivo possui duas colunas, sem cabeçalho. Cada coluna representa os dados de um canal EMG. A nomenclatura dos arquivos segue o padrão `<nome_da_classe><número_da_coleta>.csv`, por exemplo, a primeira coleta do arquivo da classe Polegar, representado por T-T, tem o nome `T-T1.csv`, o arquivo da segunda coleta tem o nome `T-T2.csv`, e assim sucessivamente.\n",
    "\n",
    "\\[1\\] R. N. Khushaba, M. Takruri, S. Kodagoda, and G. Dissanayake, \"Toward Improved Control of Prosthetic Fingers Using Surface Electromyogram (EMG) Signals\", Expert Systems with Applications, vol 39, no. 12, pp. 10731–10738, 2012.\n",
    "Disponível em: (https://www.rami-khushaba.com/electromyogram-emg-repository.html)\n",
    "\n",
    "\n",
    ">Com a análise dos detalhes do *dataset* utilizado descobrimos dados importantes, como a frêquencia de amostragem e o fato de que esse *dataset* já teve seus dados filtratos para remoção de interferências da rede elétrica. Estas informações serão úteis em etapas posteriores."
   ]
  },
  {
   "cell_type": "markdown",
   "id": "e1b03cab",
   "metadata": {},
   "source": [
    "## Carregando o *dataset*\n",
    "\n",
    "O carregamento do *dataset* varia conforme o formato que os dados estão armazenados e estruturados. Vimos que temos os dados no formato `.csv`, utilizaremos a biblioteca [pandas](https://pandas.pydata.org) para realizar o carregamento e a biblioteca [numpy](https://numpy.org) para organizar os dados em arrays para facilitar a manipulação destes dados futuramente."
   ]
  },
  {
   "cell_type": "code",
   "execution_count": 1,
   "id": "82499e02",
   "metadata": {},
   "outputs": [
    {
     "name": "stdout",
     "output_type": "stream",
     "text": [
      "              0         1\n",
      "0     -0.001244 -0.000158\n",
      "1     -0.001231 -0.000111\n",
      "2     -0.001068 -0.000073\n",
      "3     -0.000777 -0.000048\n",
      "4     -0.000409 -0.000034\n",
      "...         ...       ...\n",
      "19995  0.000150  0.000112\n",
      "19996  0.000149  0.000078\n",
      "19997  0.000150  0.000049\n",
      "19998  0.000157  0.000029\n",
      "19999  0.000173  0.000015\n",
      "\n",
      "[20000 rows x 2 columns]\n"
     ]
    }
   ],
   "source": [
    "import pandas as pd\n",
    "\n",
    "# carrega um arquivo .csv para um pandas dataframe\n",
    "t_t1 = pd.read_csv('./datasets/khushaba/EMG-S2/T-T1.csv', delimiter=',', header=None)\n",
    "\n",
    "# imprime o dataframe\n",
    "print(t_t1)"
   ]
  },
  {
   "cell_type": "code",
   "execution_count": 2,
   "id": "235bc53c",
   "metadata": {},
   "outputs": [
    {
     "name": "stdout",
     "output_type": "stream",
     "text": [
      "(20000, 2)\n"
     ]
    }
   ],
   "source": [
    "# converte o dataframe do pandas para um numpy array\n",
    "t_t1 = t_t1.to_numpy()\n",
    "\n",
    "# imprime o shape do numpy array\n",
    "print(t_t1.shape)\n",
    "# neste exemplo devemos ter um shape de (20000, 2), 20000 linhas e 2 colunas, onde cada coluna é um canal."
   ]
  },
  {
   "cell_type": "markdown",
   "id": "1719892b",
   "metadata": {},
   "source": [
    "Realizamos o carregamento de um ensaio de uma classe de um voluntário e o tranformamos em um numpy array. É preciso carregar todas os ensaios de cada classe, podemos usufluir do padrão da nomenclaruta dos arquivos e criar um laço de repetição para o carregamento destes dados"
   ]
  },
  {
   "cell_type": "code",
   "execution_count": 7,
   "id": "442a87df",
   "metadata": {},
   "outputs": [
    {
     "name": "stdout",
     "output_type": "stream",
     "text": [
      "(10, 6, 20000, 2) - (classes, ensaios, linhas, canais)\n"
     ]
    }
   ],
   "source": [
    "import numpy as np\n",
    "\n",
    "classes = ['T-I','T-L','T-M','T-R','T-T','HC-','I-I','L-L','M-M','R-R']\n",
    "\n",
    "# variável para armazenar os dados das classes\n",
    "data = []\n",
    "\n",
    "for classe in classes:\n",
    "    # variável para armazear os dados dos ensaios\n",
    "    trials = []\n",
    "    for i in range(1, 7): # de 1 a 6 (Qt. de ensaios)\n",
    "        # carrega o arquivo .csv para um pandas dataframe\n",
    "        dataframe = pd.read_csv(f'./datasets/khushaba/EMG-S1/{classe}{i}.csv', delimiter=',', header=None)\n",
    "        \n",
    "        # converte os dados do um ensaio para numpy array e o adiciona na lista de ensaios\n",
    "        trials.append(dataframe.to_numpy())\n",
    "    \n",
    "    # adiciona os ensaios de uma classe a lista de dados das classes\n",
    "    data.append(trials)\n",
    "\n",
    "# transforma os dados das classes em um numpy array\n",
    "data = np.array(data)\n",
    "\n",
    "# imprime o shape do numpy array\n",
    "print(f'{data.shape} - (classes, ensaios, linhas, canais)')\n",
    "# neste momento devemos ter um shape de (10, 6, 20000, 2), sendo 10 classes, 6 ensaios, 20000 linhas e 2 canais"
   ]
  },
  {
   "cell_type": "markdown",
   "id": "8e55fee1",
   "metadata": {},
   "source": [
    "O shape atual dos dados não é adequado para os processamentos posterior que serão aplicados sobre eles, o ideal é que as linhas com os dados dos eletrodos estejam no último eixo do numpy array, para corrigir isso podemos utilizar a função *swapaxes* do próprio numpy array"
   ]
  },
  {
   "cell_type": "code",
   "execution_count": 8,
   "id": "d4a14f7f",
   "metadata": {},
   "outputs": [
    {
     "name": "stdout",
     "output_type": "stream",
     "text": [
      "(10, 6, 2, 20000) - (classes, ensaios, canais, linhas)\n"
     ]
    }
   ],
   "source": [
    "# troca os eixos 2 e 3 do numpy array\n",
    "data = data.swapaxes(2, 3)\n",
    "\n",
    "# imprime o shape do numpy array\n",
    "print(f'{data.shape} - (classes, ensaios, canais, linhas)')\n",
    "# neste momento devemos ter um shape de (10, 6, 2, 2000), sendo 10 classes, 6 ensaios, 2 canais e 20000 linhas"
   ]
  },
  {
   "cell_type": "markdown",
   "id": "b1f96653",
   "metadata": {},
   "source": [
    "**Desafio:** Utilizando o padrão de nomenclatura das pastas que guardam os arquivos do *dataset*, implemente uma função que realizará o carregamento dos dados para todas os voluntários do *dataset*. Essa função deve retornar um dicionário python cuja as chaves sejam os voluntários e o valor de cada chave seja um `numpy array` representando os dados daquele voluntário."
   ]
  },
  {
   "cell_type": "code",
   "execution_count": 9,
   "id": "c0deed21",
   "metadata": {},
   "outputs": [],
   "source": [
    "# Sua função aqui"
   ]
  },
  {
   "cell_type": "markdown",
   "id": "9b806fd0",
   "metadata": {},
   "source": [
    "### Melhorando o carregamento dos dados\n",
    "\n",
    "Durante o desenvolvimento de uma analise de dados é comum precisar rodar o código várias vezes, sendo ncessário carregar sempre os dados dos arquivos do *dataset* e realizar a conversão para numpy array.\n",
    "É possível, entretando, salvar os dados do numpy array em um arquivo `.npy`, desta forma sempre que o código for executado podemos verificar se o arquivo já existe e realizar um rápido carregamento dos dados já no formato numpy array, sem a necessidade de carregar os arquivos do *dataset* e realizar conversões."
   ]
  },
  {
   "cell_type": "code",
   "execution_count": 13,
   "id": "997ff83a",
   "metadata": {},
   "outputs": [
    {
     "name": "stdout",
     "output_type": "stream",
     "text": [
      "[[[[-2.476975e-04 -1.882196e-04 -1.454344e-04 ... -1.943781e-04\n",
      "    -2.073433e-04 -2.008607e-04]\n",
      "   [-2.485776e-05 -2.534396e-05 -2.777494e-05 ... -2.168618e-06\n",
      "     2.635488e-05  4.483033e-05]]\n",
      "\n",
      "  [[ 1.302134e-03  9.342453e-04  5.767288e-04 ... -5.421702e-04\n",
      "    -5.442770e-04 -5.332566e-04]\n",
      "   [ 3.605336e-04  2.979764e-04  2.334744e-04 ...  2.626462e-04\n",
      "     2.308813e-04  1.970097e-04]]\n",
      "\n",
      "  [[-4.609755e-04 -3.844807e-04 -2.885380e-04 ...  9.679549e-04\n",
      "     1.218994e-03  1.415580e-03]\n",
      "   [-1.918548e-05  1.144487e-05  3.218923e-05 ...  3.692851e-04\n",
      "     3.624784e-04  3.446512e-04]]\n",
      "\n",
      "  [[-6.537409e-05 -7.266703e-05 -3.571614e-05 ...  3.931088e-04\n",
      "     3.136967e-04  2.608634e-04]\n",
      "   [-1.776853e-04 -1.314967e-04 -1.000561e-04 ... -1.225832e-04\n",
      "    -1.062146e-04 -8.822530e-05]]\n",
      "\n",
      "  [[-4.819517e-05 -6.051213e-05 -1.021629e-04 ... -3.214373e-04\n",
      "    -3.446126e-04 -3.570916e-04]\n",
      "   [ 5.230852e-04  4.931031e-04  4.446456e-04 ...  1.504969e-04\n",
      "     1.239182e-04  9.280167e-05]]\n",
      "\n",
      "  [[ 8.483506e-04  8.919462e-04  9.172284e-04 ...  1.362909e-03\n",
      "     1.221425e-03  1.054336e-03]\n",
      "   [ 2.424803e-05  1.808955e-05  6.096713e-06 ...  1.602208e-04\n",
      "     1.798307e-04  1.911753e-04]]]\n",
      "\n",
      "\n",
      " [[[ 1.525623e-03  1.312668e-03  1.093556e-03 ... -5.663179e-04\n",
      "    -4.993849e-04 -3.784843e-04]\n",
      "   [ 5.493398e-04  5.405883e-04  5.052580e-04 ... -1.817370e-04\n",
      "    -1.718510e-04 -1.635857e-04]]\n",
      "\n",
      "  [[ 1.180099e-03  1.063249e-03  8.525642e-04 ... -5.840528e-05\n",
      "     5.286387e-06  5.277153e-05]\n",
      "   [ 3.355756e-04  3.271482e-04  3.148312e-04 ...  5.811968e-05\n",
      "     7.384002e-05  9.053275e-05]]\n",
      "\n",
      "  [[-3.741085e-04 -5.110537e-04 -6.389232e-04 ... -4.708614e-04\n",
      "    -5.293671e-04 -5.684248e-04]\n",
      "   [-2.923353e-05 -7.185670e-05 -1.198280e-04 ... -1.399241e-04\n",
      "    -1.460826e-04 -1.540238e-04]]\n",
      "\n",
      "  [[ 3.901916e-04  3.798194e-04  3.576164e-04 ...  1.993020e-03\n",
      "     1.859478e-03  1.638582e-03]\n",
      "   [-4.504412e-04 -3.593606e-04 -2.796244e-04 ...  1.770756e-04\n",
      "     1.624898e-04  1.436902e-04]]\n",
      "\n",
      "  [[ 2.250470e-04  7.447907e-04  1.311210e-03 ... -1.493239e-04\n",
      "    -7.250496e-05  1.808955e-05]\n",
      "   [ 4.394595e-04  4.749518e-04  5.107683e-04 ... -8.028410e-05\n",
      "    -3.555408e-05  8.041497e-06]]\n",
      "\n",
      "  [[-1.509446e-04 -1.891920e-04 -2.502906e-04 ...  7.107570e-04\n",
      "     9.298695e-04  1.099876e-03]\n",
      "   [-1.042698e-04 -1.125351e-04 -1.225832e-04 ...  7.238843e-04\n",
      "     7.086502e-04  6.845024e-04]]]\n",
      "\n",
      "\n",
      " [[[-8.773911e-05 -7.623246e-05 -4.479180e-05 ...  3.397195e-05\n",
      "     2.927205e-05  4.936815e-05]\n",
      "   [-5.789590e-04 -6.269303e-04 -6.716604e-04 ...  3.044590e-04\n",
      "     1.897167e-04  7.432621e-05]]\n",
      "\n",
      "  [[ 2.736666e-04  2.355812e-04  1.548727e-04 ...  8.842590e-05\n",
      "     1.014835e-05 -8.336335e-05]\n",
      "   [ 2.531276e-06 -3.911951e-05 -7.282909e-05 ...  2.002510e-04\n",
      "     2.049509e-04  2.112714e-04]]\n",
      "\n",
      "  [[-7.558420e-05 -1.367526e-05  3.121684e-05 ... -2.891863e-04\n",
      "    -3.071755e-04 -3.191683e-04]\n",
      "   [ 6.476436e-05  1.549650e-05 -1.756482e-05 ...  2.772882e-03\n",
      "     2.152655e-03  1.805996e-03]]\n",
      "\n",
      "  [[ 5.483674e-04  4.945617e-04  4.465904e-04 ...  1.485521e-04\n",
      "     8.761557e-05  8.689758e-06]\n",
      "   [-1.455964e-04 -1.665028e-04 -1.887058e-04 ... -4.340726e-04\n",
      "    -4.601652e-04 -4.775062e-04]]\n",
      "\n",
      "  [[ 9.013889e-06  7.059871e-05  1.355869e-04 ...  3.791712e-04\n",
      "     3.759298e-04  3.658818e-04]\n",
      "   [ 2.388225e-04  2.088404e-04  1.773998e-04 ...  3.252034e-04\n",
      "     3.107795e-04  2.926282e-04]]\n",
      "\n",
      "  [[-1.452723e-04 -1.742820e-04 -1.977815e-04 ...  3.216380e-04\n",
      "     2.350950e-04  1.521176e-04]\n",
      "   [-2.758969e-04 -2.726556e-04 -2.796244e-04 ...  3.054314e-04\n",
      "     2.796630e-04  2.451431e-04]]]\n",
      "\n",
      "\n",
      " ...\n",
      "\n",
      "\n",
      " [[[ 4.632831e-04  2.125679e-04  9.106227e-07 ...  1.636242e-04\n",
      "     2.115956e-04  1.887444e-04]\n",
      "   [ 1.989545e-04  1.931201e-04  1.879340e-04 ...  5.362125e-04\n",
      "     4.984512e-04  4.375147e-04]]\n",
      "\n",
      "  [[-8.498399e-05 -6.440170e-05 -2.194059e-05 ... -7.176869e-04\n",
      "    -6.428128e-04 -4.987367e-04]\n",
      "   [-3.540124e-04 -3.275957e-04 -3.034480e-04 ... -3.776739e-04\n",
      "    -3.622777e-04 -3.130099e-04]]\n",
      "\n",
      "  [[-6.991193e-05 -1.196660e-04 -1.741199e-04 ... -6.436231e-04\n",
      "    -5.815520e-04 -4.903093e-04]\n",
      "   [-9.892161e-05 -9.827335e-05 -9.551824e-05 ...  2.803113e-04\n",
      "     2.872801e-04  3.002453e-04]]\n",
      "\n",
      "  [[-2.175534e-04 -2.016710e-04 -1.822232e-04 ...  3.841952e-04\n",
      "     4.185530e-04  4.687933e-04]\n",
      "   [ 1.971717e-04  1.874478e-04  1.809652e-04 ... -1.426792e-04\n",
      "    -1.263107e-04 -1.201522e-04]]\n",
      "\n",
      "  [[ 6.676476e-04  7.540284e-04  8.342508e-04 ...  7.778521e-04\n",
      "     8.974564e-04  9.898337e-04]\n",
      "   [-2.637420e-04 -2.549905e-04 -2.488320e-04 ... -3.638984e-04\n",
      "    -4.326141e-04 -5.298533e-04]]\n",
      "\n",
      "  [[-1.770371e-04 -1.049180e-04  1.987227e-05 ... -3.334301e-04\n",
      "    -3.541745e-04 -3.955011e-04]\n",
      "   [-2.053985e-04 -2.032917e-04 -1.870851e-04 ... -2.929138e-04\n",
      "    -2.541802e-04 -2.041020e-04]]]\n",
      "\n",
      "\n",
      " [[[ 4.564065e-05  2.100672e-05  3.494434e-05 ...  6.492643e-05\n",
      "     1.135460e-04  1.451488e-04]\n",
      "   [-2.415391e-04 -2.454286e-04 -2.353806e-04 ... -2.959930e-04\n",
      "    -2.934000e-04 -2.773555e-04]]\n",
      "\n",
      "  [[ 1.746447e-04  1.448246e-04  1.229458e-04 ...  5.714729e-05\n",
      "     3.462021e-05  1.776542e-05]\n",
      "   [ 1.159770e-04  9.263960e-05  8.437427e-05 ...  9.977047e-05\n",
      "     3.024445e-05 -3.409549e-05]]\n",
      "\n",
      "  [[ 4.483033e-05  2.369211e-06 -3.069211e-05 ...  2.408596e-05\n",
      "     4.418206e-05  6.233338e-05]\n",
      "   [-1.472171e-04 -1.314967e-04 -1.212866e-04 ... -1.225832e-04\n",
      "    -1.183694e-04 -1.126972e-04]]\n",
      "\n",
      "  [[-9.130454e-05 -7.331530e-05 -4.009191e-05 ... -9.584238e-05\n",
      "    -1.370070e-04 -1.621271e-04]\n",
      "   [-1.783336e-04 -1.744440e-04 -1.449482e-04 ... -2.869174e-04\n",
      "    -3.130099e-04 -3.339163e-04]]\n",
      "\n",
      "  [[-2.548284e-04 -2.335979e-04 -1.955125e-04 ... -7.493595e-05\n",
      "    -5.808115e-05 -5.192267e-05]\n",
      "   [-4.360174e-04 -4.164075e-04 -3.945287e-04 ... -1.099421e-04\n",
      "    -7.396356e-05 -4.770897e-05]]\n",
      "\n",
      "  [[-2.632558e-04 -2.263049e-04 -1.895161e-04 ... -3.318095e-04\n",
      "    -2.872415e-04 -2.480217e-04]\n",
      "   [ 6.395404e-05 -4.689865e-05 -1.285796e-04 ... -9.973194e-05\n",
      "    -4.900550e-05  2.943412e-05]]]\n",
      "\n",
      "\n",
      " [[[ 2.462775e-04  2.769079e-04  2.720459e-04 ...  2.505836e-05\n",
      "     1.646890e-05  2.214118e-05]\n",
      "   [ 7.011252e-05  1.354248e-04  1.752929e-04 ... -8.109443e-05\n",
      "    -2.518189e-05  3.413401e-05]]\n",
      "\n",
      "  [[-6.829127e-05 -7.801519e-05 -1.005423e-04 ... -3.147926e-04\n",
      "    -3.314853e-04 -3.533641e-04]\n",
      "   [-1.067007e-04 -9.956988e-05 -8.401160e-05 ... -2.076674e-04\n",
      "    -2.288980e-04 -2.386219e-04]]\n",
      "\n",
      "  [[ 5.039615e-04  3.935950e-04  2.242366e-04 ... -1.473791e-04\n",
      "    -2.199844e-04 -2.754107e-04]\n",
      "   [-4.019837e-04 -2.616352e-04 -1.310105e-04 ... -4.090223e-05\n",
      "     5.666109e-05  1.464453e-04]]\n",
      "\n",
      "  [[ 1.393144e-04  1.474177e-04  1.539003e-04 ... -4.199730e-04\n",
      "    -3.792946e-04 -3.386162e-04]\n",
      "   [-4.630823e-04 -4.105732e-04 -4.034423e-04 ... -1.290658e-04\n",
      "    -1.024871e-04 -5.808115e-05]]\n",
      "\n",
      "  [[ 5.772582e-06  6.638502e-05  1.111150e-04 ... -9.600444e-05\n",
      "    -1.900023e-04 -2.875656e-04]\n",
      "   [-5.062615e-05 -7.250496e-05 -9.746302e-05 ... -2.601766e-04\n",
      "    -2.248464e-04 -1.880575e-04]]\n",
      "\n",
      "  [[ 3.663680e-04  4.193634e-04  4.885653e-04 ... -1.270286e-05\n",
      "    -2.919414e-04 -5.316359e-04]\n",
      "   [ 1.419998e-05 -1.837515e-05 -5.208474e-05 ...  3.279585e-04\n",
      "     3.010556e-04  2.712356e-04]]]]\n"
     ]
    }
   ],
   "source": [
    "# Salva o numpy array 'data' em './lib/data/converted/s1.npy'\n",
    "np.save('./datasets/khushaba/s2', data)\n",
    "print(np.load('./datasets/khushaba/s2.npy'))\n",
    "# Lembre-se de que o diretório deve existir, caso contrário uma exceção será lançada"
   ]
  },
  {
   "cell_type": "code",
   "execution_count": null,
   "id": "93110b02",
   "metadata": {},
   "outputs": [],
   "source": [
    "**Desafio:** Implemente uma função que carregue os dados de todos os voluntários do *dataset*. Para cada voluntário a função deve verificar a existencia de um arquivo `.npy`, caso o arquivo exista ele deve ser carregado, caso contrário um carregamento dos arquivos do *dataset* deve ser realizado, salvando os dados em uma arquivo `.npy` ao final. Essa função deve retornar um dicionário python contendo os dados de todos os voluntários."
   ]
  }
 ],
 "metadata": {
  "kernelspec": {
   "display_name": "Python 3 (ipykernel)",
   "language": "python",
   "name": "python3"
  },
  "language_info": {
   "codemirror_mode": {
    "name": "ipython",
    "version": 3
   },
   "file_extension": ".py",
   "mimetype": "text/x-python",
   "name": "python",
   "nbconvert_exporter": "python",
   "pygments_lexer": "ipython3",
   "version": "3.9.7"
  }
 },
 "nbformat": 4,
 "nbformat_minor": 5
}
