{
 "cells": [
  {
   "cell_type": "code",
   "execution_count": null,
   "id": "5e229f24",
   "metadata": {},
   "outputs": [],
   "source": [
    "import numpy as np\n",
    "\n",
    "X = data_filtered.reshape(60, 2, 20000)"
   ]
  },
  {
   "cell_type": "markdown",
   "id": "10935378",
   "metadata": {},
   "source": [
    "## Criação do vetor de rótulos\n",
    "\n",
    "Verificar se foram concatenados amostras das 10 classes consecutivas (1) ou então os 6 trials de cada movimento consecutivos. Ex.:\n",
    "\n",
    "1. 1,2,3,4,5,6,7,8,9,10,1,2,3,4,5,6,7,8,9,10,...\n",
    "2. 1,1,1,1,1,1,1,1,1,1,2,2,2,2,2,2,2,2,2,2,3,..."
   ]
  },
  {
   "cell_type": "code",
   "execution_count": null,
   "id": "9fced217",
   "metadata": {},
   "outputs": [],
   "source": [
    "X = X.transpose(0, 2, 1)\n",
    "X = X.reshape(1200000, 2)\n",
    "\n",
    "X.shape"
   ]
  },
  {
   "cell_type": "code",
   "execution_count": null,
   "id": "e304600f",
   "metadata": {},
   "outputs": [],
   "source": [
    "y = list(range(10))\n",
    "y *= int((X.shape[0] / 10))\n",
    "y = np.array(y)\n",
    "y.shape"
   ]
  },
  {
   "cell_type": "markdown",
   "id": "91faee47",
   "metadata": {},
   "source": [
    "## Classificação"
   ]
  },
  {
   "cell_type": "code",
   "execution_count": null,
   "id": "96a71ac2",
   "metadata": {},
   "outputs": [],
   "source": []
  }
 ],
 "metadata": {
  "kernelspec": {
   "display_name": "Python 3 (ipykernel)",
   "language": "python",
   "name": "python3"
  },
  "language_info": {
   "codemirror_mode": {
    "name": "ipython",
    "version": 3
   },
   "file_extension": ".py",
   "mimetype": "text/x-python",
   "name": "python",
   "nbconvert_exporter": "python",
   "pygments_lexer": "ipython3",
   "version": "3.9.7"
  }
 },
 "nbformat": 4,
 "nbformat_minor": 5
}
